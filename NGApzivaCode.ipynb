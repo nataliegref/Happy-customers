{
 "cells": [
  {
   "cell_type": "code",
   "execution_count": 17,
   "id": "b1ac1eba",
   "metadata": {},
   "outputs": [],
   "source": [
    "import pandas as pd\n",
    "from sklearn import metrics\n",
    "from sklearn.model_selection import train_test_split\n",
    "from sklearn.linear_model import LogisticRegression\n",
    "from sklearn.metrics import classification_report\n",
    "from sklearn.feature_selection import SelectKBest, chi2\n",
    "import numpy as np\n",
    "import matplotlib.pyplot as plt\n",
    "import seaborn as sns\n",
    "\n",
    "# load dataset\n",
    "data = pd.read_csv('ACME-HappinessSurvey2020.csv')"
   ]
  },
  {
   "cell_type": "code",
   "execution_count": 70,
   "id": "800f685e",
   "metadata": {},
   "outputs": [],
   "source": [
    "def run_logistic(feature_cols, data, plot = True):\n",
    "    #set up data x and y\n",
    "    X = data[feature_cols]\n",
    "    y = data.Y \n",
    "    X_train, X_test, y_train, y_test = train_test_split(X, y, test_size=0.25, random_state=16)\n",
    "    #perform logistic regression\n",
    "\n",
    "    # instantiate the model (using the default parameters)\n",
    "    logreg = LogisticRegression(random_state=16)\n",
    "\n",
    "    # fit the model with data\n",
    "    logreg.fit(X_train, y_train)\n",
    "\n",
    "    y_pred = logreg.predict(X_test)\n",
    "    cnf_matrix = metrics.confusion_matrix(y_test, y_pred)\n",
    "\n",
    "    if plot:\n",
    "        class_names=[0,1] # name  of classes\n",
    "        fig, ax = plt.subplots()\n",
    "        tick_marks = np.arange(len(class_names))\n",
    "        plt.xticks(tick_marks, class_names)\n",
    "        plt.yticks(tick_marks, class_names)\n",
    "        # create heatmap\n",
    "        sns.heatmap(pd.DataFrame(cnf_matrix), annot=True, cmap=\"YlGnBu\" ,fmt='g')\n",
    "        ax.xaxis.set_label_position(\"top\")\n",
    "        plt.tight_layout()\n",
    "        plt.title('Confusion matrix', y=1.1)\n",
    "        plt.ylabel('Actual label')\n",
    "        plt.xlabel('Predicted label')\n",
    "    else:\n",
    "        print('Confusion matrix:')\n",
    "        print(cnf_matrix)\n",
    "    \n",
    "    #precision and accuracy\n",
    "\n",
    "    target_names = ['unhappy', 'happy']\n",
    "    print(classification_report(y_test, y_pred, target_names=target_names))\n",
    "    "
   ]
  },
  {
   "cell_type": "code",
   "execution_count": 31,
   "id": "83b43ff7",
   "metadata": {},
   "outputs": [
    {
     "name": "stdout",
     "output_type": "stream",
     "text": [
      "              precision    recall  f1-score   support\n",
      "\n",
      "     unhappy       0.82      0.56      0.67        16\n",
      "       happy       0.67      0.88      0.76        16\n",
      "\n",
      "    accuracy                           0.72        32\n",
      "   macro avg       0.74      0.72      0.71        32\n",
      "weighted avg       0.74      0.72      0.71        32\n",
      "\n"
     ]
    },
    {
     "data": {
      "image/png": "[encoded data removed]",
      "text/plain": [
       "<Figure size 432x288 with 2 Axes>"
      ]
     },
     "metadata": {
      "needs_background": "light"
     },
     "output_type": "display_data"
    }
   ],
   "source": [
    "#first run\n",
    "feature_cols = ['X1', 'X2', 'X3','X4','X5','X6']\n",
    "run_logistic(feature_cols, data, plot = True)"
   ]
  },
  {
   "cell_type": "markdown",
   "id": "e1946214",
   "metadata": {},
   "source": [
    "The results show that using logistic regressin we can achieve above 73% accuracy"
   ]
  },
  {
   "cell_type": "code",
   "execution_count": 36,
   "id": "bbb4160b",
   "metadata": {},
   "outputs": [
    {
     "name": "stdout",
     "output_type": "stream",
     "text": [
      "4    X5\n",
      "0    X1\n",
      "2    X3\n",
      "5    X6\n",
      "3    X4\n",
      "1    X2\n",
      "Name: Feature, dtype: object\n",
      "  Feature  Importance\n",
      "4      X5    2.273286\n",
      "0      X1    1.449041\n",
      "2      X3    0.900104\n",
      "5      X6    0.541070\n",
      "3      X4    0.106194\n",
      "1      X2    0.036161\n"
     ]
    }
   ],
   "source": [
    "#filter features by importance\n",
    "\n",
    "# Perform feature selection using the chi2 method\n",
    "selector = SelectKBest(score_func=chi2, k='all')\n",
    "selector.fit(X, y)\n",
    "\n",
    "# Get the feature importances based on the chi2 scores\n",
    "scores = selector.scores_\n",
    "\n",
    "# Create a dataframe with the feature names and their importances\n",
    "features = X.columns\n",
    "importances = pd.DataFrame({'Feature': features, 'Importance': scores})\n",
    "\n",
    "# Sort the dataframe by importance\n",
    "importances = importances.sort_values(by='Importance', ascending=False)\n",
    "\n",
    "# Print the feature importances\n",
    "print(importances)\n"
   ]
  },
  {
   "cell_type": "markdown",
   "id": "1d832668",
   "metadata": {},
   "source": [
    "Using SelectKBest and Chi squared as a feature selection approach we can see the order of importance of the questions.\n",
    "\n"
   ]
  },
  {
   "cell_type": "code",
   "execution_count": 73,
   "id": "9887ae7b",
   "metadata": {},
   "outputs": [],
   "source": [
    "def remove_features(features, data):\n",
    "    features.reverse()\n",
    "    for i in range(len(features)-1):\n",
    "        print(f\"Feature removed: {features[i]}\")\n",
    "        test_features = features[i+1:]\n",
    "        run_logistic(test_features, data, False)"
   ]
  },
  {
   "cell_type": "code",
   "execution_count": 74,
   "id": "b626d89a",
   "metadata": {},
   "outputs": [
    {
     "name": "stdout",
     "output_type": "stream",
     "text": [
      "Feature removed: X2\n",
      "Confusion matrix:\n",
      "[[ 8  8]\n",
      " [ 2 14]]\n",
      "              precision    recall  f1-score   support\n",
      "\n",
      "     unhappy       0.80      0.50      0.62        16\n",
      "       happy       0.64      0.88      0.74        16\n",
      "\n",
      "    accuracy                           0.69        32\n",
      "   macro avg       0.72      0.69      0.68        32\n",
      "weighted avg       0.72      0.69      0.68        32\n",
      "\n",
      "Feature removed: X4\n",
      "Confusion matrix:\n",
      "[[ 8  8]\n",
      " [ 2 14]]\n",
      "              precision    recall  f1-score   support\n",
      "\n",
      "     unhappy       0.80      0.50      0.62        16\n",
      "       happy       0.64      0.88      0.74        16\n",
      "\n",
      "    accuracy                           0.69        32\n",
      "   macro avg       0.72      0.69      0.68        32\n",
      "weighted avg       0.72      0.69      0.68        32\n",
      "\n",
      "Feature removed: X6\n",
      "Confusion matrix:\n",
      "[[ 7  9]\n",
      " [ 2 14]]\n",
      "              precision    recall  f1-score   support\n",
      "\n",
      "     unhappy       0.78      0.44      0.56        16\n",
      "       happy       0.61      0.88      0.72        16\n",
      "\n",
      "    accuracy                           0.66        32\n",
      "   macro avg       0.69      0.66      0.64        32\n",
      "weighted avg       0.69      0.66      0.64        32\n",
      "\n",
      "Feature removed: X3\n",
      "Confusion matrix:\n",
      "[[ 7  9]\n",
      " [ 2 14]]\n",
      "              precision    recall  f1-score   support\n",
      "\n",
      "     unhappy       0.78      0.44      0.56        16\n",
      "       happy       0.61      0.88      0.72        16\n",
      "\n",
      "    accuracy                           0.66        32\n",
      "   macro avg       0.69      0.66      0.64        32\n",
      "weighted avg       0.69      0.66      0.64        32\n",
      "\n",
      "Feature removed: X1\n",
      "Confusion matrix:\n",
      "[[ 5 11]\n",
      " [ 1 15]]\n",
      "              precision    recall  f1-score   support\n",
      "\n",
      "     unhappy       0.83      0.31      0.45        16\n",
      "       happy       0.58      0.94      0.71        16\n",
      "\n",
      "    accuracy                           0.62        32\n",
      "   macro avg       0.71      0.62      0.58        32\n",
      "weighted avg       0.71      0.62      0.58        32\n",
      "\n"
     ]
    }
   ],
   "source": [
    "features_byimp = list(importances.Feature) #removed X2 based on above results and rerun logisitc regression\n",
    "#run_logistic(new_feature_cols, data, plot = True)\n",
    "remove_features(features_byimp, data)"
   ]
  },
  {
   "cell_type": "markdown",
   "id": "ae5b6c37",
   "metadata": {},
   "source": [
    "based on the above results we see that we lose accuracy (under 73%) and precision by removing any feature but that we still get a 71% accuracy simply by asking if people were satisfied with their courier (X5)"
   ]
  },
  {
   "cell_type": "code",
   "execution_count": null,
   "id": "0f720eb3",
   "metadata": {},
   "outputs": [],
   "source": []
  }
 ],
 "metadata": {
  "kernelspec": {
   "display_name": "Python 3",
   "language": "python",
   "name": "python3"
  },
  "language_info": {
   "codemirror_mode": {
    "name": "ipython",
    "version": 3
   },
   "file_extension": ".py",
   "mimetype": "text/x-python",
   "name": "python",
   "nbconvert_exporter": "python",
   "pygments_lexer": "ipython3",
   "version": "3.8.8"
  }
 },
 "nbformat": 4,
 "nbformat_minor": 5
}
