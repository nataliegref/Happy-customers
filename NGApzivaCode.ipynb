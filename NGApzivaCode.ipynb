{
 "cells": [
  {
   "cell_type": "markdown",
   "id": "5f70f7f7",
   "metadata": {},
   "source": [
    "Goal of exercise: predict with >73% accuracy"
   ]
  },
  {
   "cell_type": "code",
   "execution_count": 207,
   "id": "b1ac1eba",
   "metadata": {},
   "outputs": [],
   "source": [
    "#set up\n",
    "import pandas as pd\n",
    "import numpy as np\n",
    "import matplotlib.pyplot as plt\n",
    "import seaborn as sns\n",
    "\n",
    "from sklearn import metrics\n",
    "from sklearn.model_selection import train_test_split, GridSearchCV\n",
    "\n",
    "from sklearn.linear_model import LogisticRegression\n",
    "from sklearn.neighbors import KNeighborsClassifier\n",
    "from sklearn.tree import DecisionTreeClassifier\n",
    "from sklearn.ensemble import RandomForestClassifier\n",
    "from sklearn.ensemble import GradientBoostingClassifier\n",
    "from sklearn.svm import SVC\n",
    "from sklearn.naive_bayes import GaussianNB\n",
    "from sklearn.neural_network import MLPClassifier\n",
    "\n",
    "from sklearn.metrics import classification_report\n",
    "from sklearn.feature_selection import SelectKBest, chi2\n",
    "from sklearn.preprocessing import PolynomialFeatures\n",
    "from sklearn.preprocessing import StandardScaler\n",
    "\n",
    "from sklearn.metrics import accuracy_score\n",
    "\n",
    "\n",
    "\n",
    "# load dataset\n",
    "data = pd.read_csv('ACME-HappinessSurvey2020.csv')"
   ]
  },
  {
   "cell_type": "code",
   "execution_count": 195,
   "id": "800f685e",
   "metadata": {},
   "outputs": [],
   "source": [
    "def run_logistic(feature_cols, data, plot = False):\n",
    "    \n",
    "    print('Logistic regression')\n",
    "    #set up data x and y\n",
    "    X = data[feature_cols]\n",
    "    y = data.Y \n",
    "    # # Split the data into training and testing sets\n",
    "    X_train, X_test, y_train, y_test = train_test_split(X, y, test_size=0.25, random_state=16)\n",
    "\n",
    "    # instantiate the model (using the default parameters)\n",
    "    logreg = LogisticRegression(random_state=16)\n",
    "\n",
    "    # fit the model with data\n",
    "    logreg.fit(X_train, y_train)\n",
    "\n",
    "    y_pred = logreg.predict(X_test)\n",
    "    cnf_matrix = metrics.confusion_matrix(y_test, y_pred)\n",
    "\n",
    "    if plot:\n",
    "        class_names=[0,1] # name  of classes\n",
    "        fig, ax = plt.subplots()\n",
    "        tick_marks = np.arange(len(class_names))\n",
    "        plt.xticks(tick_marks, class_names)\n",
    "        plt.yticks(tick_marks, class_names)\n",
    "        # create heatmap\n",
    "        sns.heatmap(pd.DataFrame(cnf_matrix), annot=True, cmap=\"YlGnBu\" ,fmt='g')\n",
    "        ax.xaxis.set_label_position(\"top\")\n",
    "        plt.tight_layout()\n",
    "        plt.title('Confusion matrix', y=1.1)\n",
    "        plt.ylabel('Actual label')\n",
    "        plt.xlabel('Predicted label')\n",
    "    else:\n",
    "        pass\n",
    "#         print('Confusion matrix:')\n",
    "#         print(cnf_matrix)\n",
    "    \n",
    "    #precision and accuracy\n",
    "\n",
    "    #target_names = ['unhappy', 'happy']\n",
    "    #print(classification_report(y_test, y_pred, target_names=target_names))\n",
    "    accuracy = accuracy_score(y_test, y_pred)\n",
    "\n",
    "    print(\"Accuracy:\", accuracy)"
   ]
  },
  {
   "cell_type": "markdown",
   "id": "f89f6700",
   "metadata": {},
   "source": [
    "Modifying logistic regression to improve accuracy"
   ]
  },
  {
   "cell_type": "code",
   "execution_count": 177,
   "id": "29cb6071",
   "metadata": {},
   "outputs": [],
   "source": [
    "def run_featureeng(feature_cols, data):\n",
    "    print('Logistic regression with feature engineering')\n",
    "    #set up data x and y\n",
    "    #feature engineering\n",
    "    poly = PolynomialFeatures(degree=2)\n",
    "    X = poly.fit_transform(data[feature_cols])\n",
    "    y = data.Y \n",
    "    # Split the data into training and testing sets\n",
    "    X_train, X_test, y_train, y_test = train_test_split(X, y, test_size=0.25, random_state=16)\n",
    "\n",
    "    # Train the Logistic Regression classifier\n",
    "    clf = LogisticRegression()\n",
    "    clf.fit(X_train, y_train)\n",
    "\n",
    "    y_pred = clf.predict(X_test)\n",
    "    accuracy = accuracy_score(y_test, y_pred)\n",
    "\n",
    "    print(\"Accuracy:\", accuracy)\n",
    "    \n",
    "def run_featurescal(feature_cols, data):\n",
    "    print('Logistic regression with feature scaling')\n",
    "    #set up data x and y\n",
    "    #feature scaling\n",
    "    scaler = StandardScaler()\n",
    "    X = scaler.fit_transform(data[feature_cols])\n",
    "    y = data.Y \n",
    "    # Split the data into training and testing sets\n",
    "    X_train, X_test, y_train, y_test = train_test_split(X, y, test_size=0.25, random_state=16)\n",
    "\n",
    "    # Train the Logistic Regression classifier\n",
    "    clf = LogisticRegression()\n",
    "    clf.fit(X_train, y_train)\n",
    "\n",
    "    y_pred = clf.predict(X_test)\n",
    "    accuracy = accuracy_score(y_test, y_pred)\n",
    "\n",
    "    print(\"Accuracy:\", accuracy)   "
   ]
  },
  {
   "cell_type": "code",
   "execution_count": 184,
   "id": "0753a3ad",
   "metadata": {},
   "outputs": [
    {
     "name": "stdout",
     "output_type": "stream",
     "text": [
      "Logistic regression\n",
      "Accuracy: 0.71875\n",
      "Logistic regression with feature engineering\n",
      "Accuracy: 0.59375\n",
      "Logistic regression with feature scaling\n",
      "Accuracy: 0.71875\n"
     ]
    },
    {
     "name": "stderr",
     "output_type": "stream",
     "text": [
      "/opt/anaconda3/lib/python3.8/site-packages/sklearn/linear_model/_logistic.py:763: ConvergenceWarning: lbfgs failed to converge (status=1):\n",
      "STOP: TOTAL NO. of ITERATIONS REACHED LIMIT.\n",
      "\n",
      "Increase the number of iterations (max_iter) or scale the data as shown in:\n",
      "    https://scikit-learn.org/stable/modules/preprocessing.html\n",
      "Please also refer to the documentation for alternative solver options:\n",
      "    https://scikit-learn.org/stable/modules/linear_model.html#logistic-regression\n",
      "  n_iter_i = _check_optimize_result(\n"
     ]
    }
   ],
   "source": [
    "feature_cols = ['X1', 'X2', 'X3','X4','X5','X6']\n",
    "run_logistic(feature_cols, data)\n",
    "run_featureeng(feature_cols, data)\n",
    "run_featurescal(feature_cols, data)"
   ]
  },
  {
   "cell_type": "code",
   "execution_count": null,
   "id": "225bd187",
   "metadata": {},
   "outputs": [
    {
     "name": "stdout",
     "output_type": "stream",
     "text": [
      "Logistic regression accuracy: 0.71875\n",
      "KNN accuracy: 0.46875\n",
      "Decision tree accuracy: 0.5\n",
      "Random forest accuracy: 0.5625\n",
      "Gradient Boosting accuracy: 0.59375\n",
      "\n",
      "With grid search:\n",
      "Best hyperparameters for Logistic Regression (not scaled):  {'C': 0.1}\n",
      "Best accuracy score for Logistic Regression (not scaled):  0.5742690058479532\n",
      "Best hyperparameters for Logistic Regression (scaled):  {'C': 0.1}\n",
      "Best accuracy score for Logistic Regression (scaled):  0.5637426900584795\n",
      "Best hyperparameters for KNN (not scaled):  {'n_neighbors': 11}\n",
      "Best accuracy score for KNN (not scaled):  0.6052631578947368\n",
      "Best hyperparameters for KNN (scaled):  {'n_neighbors': 11}\n",
      "Best accuracy score for KNN (scaled):  0.6374269005847953\n",
      "Best hyperparameters for Decision Tree (not scaled):  {'max_depth': 3}\n",
      "Best accuracy score for Decision Tree (not scaled):  0.6169590643274854\n",
      "Best hyperparameters for Decision Tree (scaled):  {'max_depth': 3}\n",
      "Best accuracy score for Decision Tree (scaled):  0.6169590643274854\n"
     ]
    }
   ],
   "source": [
    "#comparing some other algorithms\n",
    "feature_cols = ['X1', 'X2', 'X3','X4','X5','X6']\n",
    "\n",
    "#Non scaled features\n",
    "X1 = data[feature_cols]\n",
    "# Scale the features using StandardScaler\n",
    "scaler = StandardScaler()\n",
    "X2 = scaler.fit_transform(data[feature_cols])\n",
    "\n",
    "y = data.Y \n",
    "\n",
    "# Split the data into training and testing sets for scaled and non scaled\n",
    "X1_train, X1_test, y1_train, y1_test = train_test_split(X1, y, test_size=0.25, random_state=16)\n",
    "X2_train, X2_test, y2_train, y2_test = train_test_split(X2, y, test_size=0.25, random_state=16)\n",
    "\n",
    "# Define the hyperparameter grid to search over\n",
    "param_grid = {'C': [0.1, 1, 10, 100]}\n",
    "\n",
    "# Create a Logistic Regression classifier\n",
    "clf = LogisticRegression()\n",
    "clf.fit(X1_train, y1_train)\n",
    "y_pred = clf.predict(X1_test)\n",
    "accuracy = accuracy_score(y1_test, y_pred)\n",
    "print(f\"Logistic regression accuracy: {accuracy}\")\n",
    "\n",
    "clf_logistic = LogisticRegression()\n",
    "\n",
    "# Create a KNN classifier\n",
    "clf = KNeighborsClassifier()\n",
    "clf.fit(X1_train, y1_train)\n",
    "y_pred = clf.predict(X1_test)\n",
    "accuracy = accuracy_score(y1_test, y_pred)\n",
    "print(f\"KNN accuracy: {accuracy}\")\n",
    "\n",
    "clf_knn = KNeighborsClassifier()\n",
    "\n",
    "# Create a Decision Tree classifier\n",
    "clf = DecisionTreeClassifier()\n",
    "clf.fit(X1_train, y1_train)\n",
    "y_pred = clf.predict(X1_test)\n",
    "accuracy = accuracy_score(y1_test, y_pred)\n",
    "print(f\"Decision tree accuracy: {accuracy}\")\n",
    "\n",
    "clf_dt = DecisionTreeClassifier()\n",
    "\n",
    "# Create a Random Forest classifier\n",
    "clf = RandomForestClassifier()\n",
    "clf.fit(X1_train, y1_train)\n",
    "y_pred = clf.predict(X1_test)\n",
    "accuracy = accuracy_score(y1_test, y_pred)\n",
    "print(f\"Random forest accuracy: {accuracy}\")\n",
    "\n",
    "clf_rf = RandomForestClassifier()\n",
    "\n",
    "#Create a Gradient Boosting classifier\n",
    "clf = GradientBoostingClassifier()\n",
    "clf.fit(X1_train, y1_train)\n",
    "y_pred = clf.predict(X1_test)\n",
    "accuracy = accuracy_score(y1_test, y_pred)\n",
    "print(f\"Gradient Boosting accuracy: {accuracy}\")\n",
    "\n",
    "clf_gb = GradientBoostingClassifier()\n",
    "\n",
    "print(\"\\nWith grid search:\")\n",
    "#not scaled\n",
    "# Use GridSearchCV to perform a model selection\n",
    "grid = GridSearchCV(clf_logistic, param_grid, scoring='accuracy', cv=5)\n",
    "grid.fit(X1_train, y1_train)\n",
    "\n",
    "# Print the best hyperparameters and the best accuracy score\n",
    "print(\"Best hyperparameters for Logistic Regression (not scaled): \", grid.best_params_)\n",
    "print(\"Best accuracy score for Logistic Regression (not scaled): \", grid.best_score_)\n",
    "\n",
    "#scaled\n",
    "# Use GridSearchCV to perform a model selection\n",
    "grid = GridSearchCV(clf_logistic, param_grid, scoring='accuracy', cv=5)\n",
    "grid.fit(X2_train, y2_train)\n",
    "\n",
    "# Print the best hyperparameters and the best accuracy score\n",
    "print(\"Best hyperparameters for Logistic Regression (scaled): \", grid.best_params_)\n",
    "print(\"Best accuracy score for Logistic Regression (scaled): \", grid.best_score_)\n",
    "\n",
    "# Repeat the process for each classifier\n",
    "#not scaled\n",
    "grid = GridSearchCV(clf_knn, {'n_neighbors': range(1, 31)}, scoring='accuracy', cv=5)\n",
    "grid.fit(X1_train, y1_train)\n",
    "print(\"Best hyperparameters for KNN (not scaled): \", grid.best_params_)\n",
    "print(\"Best accuracy score for KNN (not scaled): \", grid.best_score_)\n",
    "\n",
    "#scaled\n",
    "grid = GridSearchCV(clf_knn, {'n_neighbors': range(1, 31)}, scoring='accuracy', cv=5)\n",
    "grid.fit(X2_train, y2_train)\n",
    "print(\"Best hyperparameters for KNN (scaled): \", grid.best_params_)\n",
    "print(\"Best accuracy score for KNN (scaled): \", grid.best_score_)\n",
    "\n",
    "#not scaled\n",
    "grid = GridSearchCV(clf_dt, {'max_depth': range(1, 11)}, scoring='accuracy', cv=5)\n",
    "grid.fit(X1_train, y1_train)\n",
    "print(\"Best hyperparameters for Decision Tree (not scaled): \", grid.best_params_)\n",
    "print(\"Best accuracy score for Decision Tree (not scaled): \", grid.best_score_)\n",
    "\n",
    "#scaled\n",
    "grid = GridSearchCV(clf_dt, {'max_depth': range(1, 11)}, scoring='accuracy', cv=5)\n",
    "grid.fit(X2_train, y2_train)\n",
    "print(\"Best hyperparameters for Decision Tree (scaled): \", grid.best_params_)\n",
    "print(\"Best accuracy score for Decision Tree (scaled): \", grid.best_score_)\n",
    "\n",
    "#not scaled\n",
    "grid = GridSearchCV(clf_rf, {'n_estimators': [10, 50, 100, 200], 'max_depth': range(1, 11)}, scoring='accuracy', cv=5)\n",
    "grid.fit(X1_train, y1_train)\n",
    "print(\"Best hyperparameters for Random Forest (not scaled): \", grid.best_params_)\n",
    "print(\"Best accuracy score for Random Forest (not scaled): \", grid.best_score_)\n",
    "\n",
    "#scaled\n",
    "grid = GridSearchCV(clf_rf, {'n_estimators': [10, 50, 100, 200], 'max_depth': range(1, 11)}, scoring='accuracy', cv=5)\n",
    "grid.fit(X2_train, y2_train)\n",
    "print(\"Best hyperparameters for Random Forest (scaled): \", grid.best_params_)\n",
    "print(\"Best accuracy score for Random Forest (scaled): \", grid.best_score_)\n",
    "\n",
    "#not scaled\n",
    "grid = GridSearchCV(clf_gb, {'n_estimators': [10, 50, 100, 200], 'max_depth': range(1, 11)}, scoring='accuracy', cv=5)\n",
    "grid.fit(X1_train, y1_train)\n",
    "print(\"Best hyperparameters for Gradient Boosting (not scaled): \", grid.best_params_)\n",
    "print(\"Best accuracy score for Gradient Boosting (not scaled): \", grid.best_score_)\n",
    "\n",
    "#scaled\n",
    "grid = GridSearchCV(clf_gb, {'n_estimators': [10, 50, 100, 200], 'max_depth': range(1, 11)}, scoring='accuracy', cv=5)\n",
    "grid.fit(X2_train, y2_train)\n",
    "print(\"Best hyperparameters for Gradient Boosting (scaled): \", grid.best_params_)\n",
    "print(\"Best accuracy score for Gradient Boosting(scaled): \", grid.best_score_)\n"
   ]
  },
  {
   "cell_type": "code",
   "execution_count": 208,
   "id": "83b43ff7",
   "metadata": {},
   "outputs": [
    {
     "name": "stdout",
     "output_type": "stream",
     "text": [
      "Accuracy: 0.6875\n"
     ]
    }
   ],
   "source": [
    "def run_svc(feature_cols, data, plot = True):\n",
    "    #set up data x and y\n",
    "    X = data[feature_cols]\n",
    "    y = data.Y \n",
    "    X_train, X_test, y_train, y_test = train_test_split(X, y, test_size=0.25)\n",
    "    # Train the SVM classifier\n",
    "    clf = SVC()\n",
    "    clf.fit(X_train, y_train)\n",
    "\n",
    "    # Predict the target values for the test set\n",
    "    y_pred = clf.predict(X_test)\n",
    "\n",
    "    # Calculate the accuracy of the model\n",
    "    accuracy = accuracy_score(y_test, y_pred)\n",
    "\n",
    "    print(\"Accuracy:\", accuracy)\n",
    "\n",
    "feature_cols = ['X1', 'X2', 'X3','X4','X5','X6']\n",
    "run_svc(feature_cols, data)"
   ]
  },
  {
   "cell_type": "code",
   "execution_count": 209,
   "id": "f11bea38",
   "metadata": {},
   "outputs": [
    {
     "name": "stdout",
     "output_type": "stream",
     "text": [
      "Accuracy: 0.5625\n"
     ]
    }
   ],
   "source": [
    "def run_NB(feature_cols, data, plot = True):\n",
    "    #set up data x and y\n",
    "    X = data[feature_cols]\n",
    "    y = data.Y \n",
    "    X_train, X_test, y_train, y_test = train_test_split(X, y, test_size=0.25)\n",
    "\n",
    "    # Train the Gaussian Naive Bayes classifier\n",
    "    clf = GaussianNB()\n",
    "    clf.fit(X_train, y_train)\n",
    "\n",
    "    # Predict the target values for the test set\n",
    "    y_pred = clf.predict(X_test)\n",
    "\n",
    "    # Calculate the accuracy of the model\n",
    "    accuracy = accuracy_score(y_test, y_pred)\n",
    "\n",
    "    print(\"Accuracy:\", accuracy)\n",
    "feature_cols = ['X1', 'X2', 'X3','X4','X5','X6']\n",
    "run_NB(feature_cols, data)"
   ]
  },
  {
   "cell_type": "code",
   "execution_count": 210,
   "id": "3028c187",
   "metadata": {},
   "outputs": [
    {
     "name": "stdout",
     "output_type": "stream",
     "text": [
      "Accuracy: 0.40625\n"
     ]
    }
   ],
   "source": [
    "def run_MLPC(feature_cols, data, plot = True):\n",
    "    #set up data x and y\n",
    "    X = data[feature_cols]\n",
    "    y = data.Y \n",
    "    X_train, X_test, y_train, y_test = train_test_split(X, y, test_size=0.25)\n",
    "    # Train the Neural Network classifier\n",
    "    clf = MLPClassifier(hidden_layer_sizes=(10,), max_iter=1000)\n",
    "    clf.fit(X_train, y_train)\n",
    "\n",
    "    # Predict the target values for the test set\n",
    "    y_pred = clf.predict(X_test)\n",
    "    # Calculate the accuracy of the model\n",
    "    accuracy = accuracy_score(y_test, y_pred)\n",
    "\n",
    "    print(\"Accuracy:\", accuracy)\n",
    "feature_cols = ['X1', 'X2', 'X3','X4','X5','X6']\n",
    "run_MLPC(feature_cols, data)"
   ]
  },
  {
   "cell_type": "markdown",
   "id": "e1946214",
   "metadata": {},
   "source": [
    "The results show that using logistic regressin we can achieve highest accuracy but it is still below 73%"
   ]
  },
  {
   "cell_type": "markdown",
   "id": "1bb013f9",
   "metadata": {},
   "source": [
    "Looking at individual features:"
   ]
  },
  {
   "cell_type": "code",
   "execution_count": 211,
   "id": "8048fccc",
   "metadata": {},
   "outputs": [
    {
     "data": {
      "text/plain": [
       "<AxesSubplot:xlabel='X1', ylabel='Count'>"
      ]
     },
     "execution_count": 211,
     "metadata": {},
     "output_type": "execute_result"
    },
    {
     "data": {
      "image/png": "[encoded data removed]",
      "text/plain": [
       "<Figure size 432x288 with 1 Axes>"
      ]
     },
     "metadata": {
      "needs_background": "light"
     },
     "output_type": "display_data"
    }
   ],
   "source": [
    "import seaborn as sns\n",
    "\n",
    "happy = data[data['Y'] == 1]\n",
    "unhappy = data[data['Y'] == 0]\n",
    "# create distribution plot\n",
    "sns.histplot(data=happy, x='X1', kde=True)\n",
    "sns.histplot(data=unhappy, x='X1', kde=True, color = 'r')\n",
    "\n"
   ]
  },
  {
   "cell_type": "code",
   "execution_count": 127,
   "id": "bbb4160b",
   "metadata": {},
   "outputs": [
    {
     "name": "stdout",
     "output_type": "stream",
     "text": [
      "  Feature  Importance\n",
      "4      X5    2.273286\n",
      "0      X1    1.449041\n",
      "2      X3    0.900104\n",
      "5      X6    0.541070\n",
      "3      X4    0.106194\n",
      "1      X2    0.036161\n"
     ]
    }
   ],
   "source": [
    "#filter features by importance\n",
    "\n",
    "# Perform feature selection using the chi2 method\n",
    "selector = SelectKBest(score_func=chi2, k='all')\n",
    "selector.fit(X, y)\n",
    "\n",
    "# Get the feature importances based on the chi2 scores\n",
    "scores = selector.scores_\n",
    "\n",
    "# Create a dataframe with the feature names and their importances\n",
    "features = X.columns\n",
    "importances = pd.DataFrame({'Feature': features, 'Importance': scores})\n",
    "\n",
    "# Sort the dataframe by importance\n",
    "importances = importances.sort_values(by='Importance', ascending=False)\n",
    "\n",
    "# Print the feature importances\n",
    "print(importances)\n"
   ]
  },
  {
   "cell_type": "markdown",
   "id": "1d832668",
   "metadata": {},
   "source": [
    "Using SelectKBest and Chi squared as a feature selection approach we can see the order of importance of the questions.\n",
    "\n"
   ]
  },
  {
   "cell_type": "code",
   "execution_count": 128,
   "id": "9887ae7b",
   "metadata": {},
   "outputs": [],
   "source": [
    "def remove_features(features, data):\n",
    "    features.reverse()\n",
    "    for i in range(len(features)-1):\n",
    "        print(f\"Feature removed: {features[i]}\")\n",
    "        test_features = features[i+1:]\n",
    "        run_logistic(test_features, data, False)"
   ]
  },
  {
   "cell_type": "code",
   "execution_count": 129,
   "id": "b626d89a",
   "metadata": {},
   "outputs": [
    {
     "name": "stdout",
     "output_type": "stream",
     "text": [
      "Feature removed: X2\n",
      "Accuracy: 0.6875\n",
      "Feature removed: X4\n",
      "Accuracy: 0.6875\n",
      "Feature removed: X6\n",
      "Accuracy: 0.65625\n",
      "Feature removed: X3\n",
      "Accuracy: 0.65625\n",
      "Feature removed: X1\n",
      "Accuracy: 0.625\n"
     ]
    }
   ],
   "source": [
    "features_byimp = list(importances.Feature) #removed X2 based on above results and rerun logisitc regression\n",
    "#run_logistic(new_feature_cols, data, plot = True)\n",
    "remove_features(features_byimp, data)"
   ]
  },
  {
   "cell_type": "markdown",
   "id": "ae5b6c37",
   "metadata": {},
   "source": []
  },
  {
   "cell_type": "code",
   "execution_count": null,
   "id": "0f720eb3",
   "metadata": {},
   "outputs": [],
   "source": []
  }
 ],
 "metadata": {
  "kernelspec": {
   "display_name": "Python 3",
   "language": "python",
   "name": "python3"
  },
  "language_info": {
   "codemirror_mode": {
    "name": "ipython",
    "version": 3
   },
   "file_extension": ".py",
   "mimetype": "text/x-python",
   "name": "python",
   "nbconvert_exporter": "python",
   "pygments_lexer": "ipython3",
   "version": "3.8.8"
  }
 },
 "nbformat": 4,
 "nbformat_minor": 5
}
