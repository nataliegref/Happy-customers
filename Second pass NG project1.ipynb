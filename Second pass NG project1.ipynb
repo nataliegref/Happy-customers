{
 "cells": [
  {
   "cell_type": "code",
   "execution_count": null,
   "id": "e130b373",
   "metadata": {},
   "outputs": [],
   "source": [
    "#from https://www.kaggle.com/code/niklasdonges/end-to-end-project-with-python"
   ]
  },
  {
   "cell_type": "code",
   "execution_count": 50,
   "id": "468d8ab2",
   "metadata": {},
   "outputs": [],
   "source": [
    "# linear algebra\n",
    "import numpy as np \n",
    "\n",
    "# data processing\n",
    "import pandas as pd \n",
    "\n",
    "# data visualization\n",
    "import seaborn as sns\n",
    "%matplotlib inline\n",
    "from matplotlib import pyplot as plt\n",
    "from matplotlib import style\n",
    "\n",
    "# Algorithms\n",
    "from sklearn import linear_model\n",
    "from sklearn.linear_model import LogisticRegression\n",
    "from sklearn.ensemble import RandomForestClassifier\n",
    "from sklearn.linear_model import Perceptron\n",
    "from sklearn.linear_model import SGDClassifier\n",
    "from sklearn.tree import DecisionTreeClassifier\n",
    "from sklearn.neighbors import KNeighborsClassifier\n",
    "from sklearn.svm import SVC, LinearSVC\n",
    "from sklearn.naive_bayes import GaussianNB\n",
    "\n",
    "\n",
    "import xgboost as xgb\n",
    "\n",
    "from sklearn import metrics\n",
    "from sklearn.model_selection import train_test_split, GridSearchCV\n",
    "\n",
    "from sklearn.linear_model import LogisticRegression\n",
    "from sklearn.neighbors import KNeighborsClassifier\n",
    "from sklearn.tree import DecisionTreeClassifier\n",
    "from sklearn.ensemble import RandomForestClassifier\n",
    "from sklearn.ensemble import GradientBoostingClassifier\n",
    "from sklearn.svm import SVC\n",
    "from sklearn.naive_bayes import GaussianNB\n",
    "from sklearn.neural_network import MLPClassifier\n",
    "\n",
    "from sklearn.metrics import classification_report\n",
    "from sklearn.feature_selection import SelectKBest, chi2\n",
    "from sklearn.preprocessing import PolynomialFeatures\n",
    "from sklearn.preprocessing import StandardScaler\n",
    "\n",
    "from sklearn.metrics import accuracy_score\n"
   ]
  },
  {
   "cell_type": "markdown",
   "id": "c90b19c0",
   "metadata": {},
   "source": [
    "# Loading data"
   ]
  },
  {
   "cell_type": "code",
   "execution_count": 4,
   "id": "5de0a11d",
   "metadata": {},
   "outputs": [],
   "source": [
    "data = pd.read_csv('ACME-HappinessSurvey2020.csv')"
   ]
  },
  {
   "cell_type": "code",
   "execution_count": 5,
   "id": "034c161a",
   "metadata": {},
   "outputs": [
    {
     "name": "stdout",
     "output_type": "stream",
     "text": [
      "<class 'pandas.core.frame.DataFrame'>\n",
      "RangeIndex: 126 entries, 0 to 125\n",
      "Data columns (total 7 columns):\n",
      " #   Column  Non-Null Count  Dtype\n",
      "---  ------  --------------  -----\n",
      " 0   Y       126 non-null    int64\n",
      " 1   X1      126 non-null    int64\n",
      " 2   X2      126 non-null    int64\n",
      " 3   X3      126 non-null    int64\n",
      " 4   X4      126 non-null    int64\n",
      " 5   X5      126 non-null    int64\n",
      " 6   X6      126 non-null    int64\n",
      "dtypes: int64(7)\n",
      "memory usage: 7.0 KB\n"
     ]
    }
   ],
   "source": [
    "data.info()"
   ]
  },
  {
   "cell_type": "code",
   "execution_count": 6,
   "id": "e1bf1bfa",
   "metadata": {},
   "outputs": [
    {
     "data": {
      "text/html": [
       "<div>\n",
       "<style scoped>\n",
       "    .dataframe tbody tr th:only-of-type {\n",
       "        vertical-align: middle;\n",
       "    }\n",
       "\n",
       "    .dataframe tbody tr th {\n",
       "        vertical-align: top;\n",
       "    }\n",
       "\n",
       "    .dataframe thead th {\n",
       "        text-align: right;\n",
       "    }\n",
       "</style>\n",
       "<table border=\"1\" class=\"dataframe\">\n",
       "  <thead>\n",
       "    <tr style=\"text-align: right;\">\n",
       "      <th></th>\n",
       "      <th>Y</th>\n",
       "      <th>X1</th>\n",
       "      <th>X2</th>\n",
       "      <th>X3</th>\n",
       "      <th>X4</th>\n",
       "      <th>X5</th>\n",
       "      <th>X6</th>\n",
       "    </tr>\n",
       "  </thead>\n",
       "  <tbody>\n",
       "    <tr>\n",
       "      <th>count</th>\n",
       "      <td>126.000000</td>\n",
       "      <td>126.000000</td>\n",
       "      <td>126.000000</td>\n",
       "      <td>126.000000</td>\n",
       "      <td>126.000000</td>\n",
       "      <td>126.000000</td>\n",
       "      <td>126.000000</td>\n",
       "    </tr>\n",
       "    <tr>\n",
       "      <th>mean</th>\n",
       "      <td>0.547619</td>\n",
       "      <td>4.333333</td>\n",
       "      <td>2.531746</td>\n",
       "      <td>3.309524</td>\n",
       "      <td>3.746032</td>\n",
       "      <td>3.650794</td>\n",
       "      <td>4.253968</td>\n",
       "    </tr>\n",
       "    <tr>\n",
       "      <th>std</th>\n",
       "      <td>0.499714</td>\n",
       "      <td>0.800000</td>\n",
       "      <td>1.114892</td>\n",
       "      <td>1.023440</td>\n",
       "      <td>0.875776</td>\n",
       "      <td>1.147641</td>\n",
       "      <td>0.809311</td>\n",
       "    </tr>\n",
       "    <tr>\n",
       "      <th>min</th>\n",
       "      <td>0.000000</td>\n",
       "      <td>1.000000</td>\n",
       "      <td>1.000000</td>\n",
       "      <td>1.000000</td>\n",
       "      <td>1.000000</td>\n",
       "      <td>1.000000</td>\n",
       "      <td>1.000000</td>\n",
       "    </tr>\n",
       "    <tr>\n",
       "      <th>25%</th>\n",
       "      <td>0.000000</td>\n",
       "      <td>4.000000</td>\n",
       "      <td>2.000000</td>\n",
       "      <td>3.000000</td>\n",
       "      <td>3.000000</td>\n",
       "      <td>3.000000</td>\n",
       "      <td>4.000000</td>\n",
       "    </tr>\n",
       "    <tr>\n",
       "      <th>50%</th>\n",
       "      <td>1.000000</td>\n",
       "      <td>5.000000</td>\n",
       "      <td>3.000000</td>\n",
       "      <td>3.000000</td>\n",
       "      <td>4.000000</td>\n",
       "      <td>4.000000</td>\n",
       "      <td>4.000000</td>\n",
       "    </tr>\n",
       "    <tr>\n",
       "      <th>75%</th>\n",
       "      <td>1.000000</td>\n",
       "      <td>5.000000</td>\n",
       "      <td>3.000000</td>\n",
       "      <td>4.000000</td>\n",
       "      <td>4.000000</td>\n",
       "      <td>4.000000</td>\n",
       "      <td>5.000000</td>\n",
       "    </tr>\n",
       "    <tr>\n",
       "      <th>max</th>\n",
       "      <td>1.000000</td>\n",
       "      <td>5.000000</td>\n",
       "      <td>5.000000</td>\n",
       "      <td>5.000000</td>\n",
       "      <td>5.000000</td>\n",
       "      <td>5.000000</td>\n",
       "      <td>5.000000</td>\n",
       "    </tr>\n",
       "  </tbody>\n",
       "</table>\n",
       "</div>"
      ],
      "text/plain": [
       "                Y          X1          X2          X3          X4          X5  \\\n",
       "count  126.000000  126.000000  126.000000  126.000000  126.000000  126.000000   \n",
       "mean     0.547619    4.333333    2.531746    3.309524    3.746032    3.650794   \n",
       "std      0.499714    0.800000    1.114892    1.023440    0.875776    1.147641   \n",
       "min      0.000000    1.000000    1.000000    1.000000    1.000000    1.000000   \n",
       "25%      0.000000    4.000000    2.000000    3.000000    3.000000    3.000000   \n",
       "50%      1.000000    5.000000    3.000000    3.000000    4.000000    4.000000   \n",
       "75%      1.000000    5.000000    3.000000    4.000000    4.000000    4.000000   \n",
       "max      1.000000    5.000000    5.000000    5.000000    5.000000    5.000000   \n",
       "\n",
       "               X6  \n",
       "count  126.000000  \n",
       "mean     4.253968  \n",
       "std      0.809311  \n",
       "min      1.000000  \n",
       "25%      4.000000  \n",
       "50%      4.000000  \n",
       "75%      5.000000  \n",
       "max      5.000000  "
      ]
     },
     "execution_count": 6,
     "metadata": {},
     "output_type": "execute_result"
    }
   ],
   "source": [
    "data.describe()"
   ]
  },
  {
   "cell_type": "code",
   "execution_count": 8,
   "id": "3392ab1c",
   "metadata": {},
   "outputs": [
    {
     "name": "stdout",
     "output_type": "stream",
     "text": [
      "69\n",
      "57\n"
     ]
    }
   ],
   "source": [
    "happy = data[data['Y'] == 1]\n",
    "unhappy = data[data['Y'] == 0]\n",
    "\n",
    "print(len(happy))\n",
    "print(len(unhappy))"
   ]
  },
  {
   "cell_type": "markdown",
   "id": "a86dd418",
   "metadata": {},
   "source": [
    "54% of the data set is Y = 1, aka happy. There are 126 entries and 6 features: X1-X6"
   ]
  },
  {
   "cell_type": "code",
   "execution_count": 9,
   "id": "ebf9a380",
   "metadata": {},
   "outputs": [
    {
     "data": {
      "text/html": [
       "<div>\n",
       "<style scoped>\n",
       "    .dataframe tbody tr th:only-of-type {\n",
       "        vertical-align: middle;\n",
       "    }\n",
       "\n",
       "    .dataframe tbody tr th {\n",
       "        vertical-align: top;\n",
       "    }\n",
       "\n",
       "    .dataframe thead th {\n",
       "        text-align: right;\n",
       "    }\n",
       "</style>\n",
       "<table border=\"1\" class=\"dataframe\">\n",
       "  <thead>\n",
       "    <tr style=\"text-align: right;\">\n",
       "      <th></th>\n",
       "      <th>Y</th>\n",
       "      <th>X1</th>\n",
       "      <th>X2</th>\n",
       "      <th>X3</th>\n",
       "      <th>X4</th>\n",
       "      <th>X5</th>\n",
       "      <th>X6</th>\n",
       "    </tr>\n",
       "  </thead>\n",
       "  <tbody>\n",
       "    <tr>\n",
       "      <th>0</th>\n",
       "      <td>0</td>\n",
       "      <td>3</td>\n",
       "      <td>3</td>\n",
       "      <td>3</td>\n",
       "      <td>4</td>\n",
       "      <td>2</td>\n",
       "      <td>4</td>\n",
       "    </tr>\n",
       "    <tr>\n",
       "      <th>1</th>\n",
       "      <td>0</td>\n",
       "      <td>3</td>\n",
       "      <td>2</td>\n",
       "      <td>3</td>\n",
       "      <td>5</td>\n",
       "      <td>4</td>\n",
       "      <td>3</td>\n",
       "    </tr>\n",
       "    <tr>\n",
       "      <th>2</th>\n",
       "      <td>1</td>\n",
       "      <td>5</td>\n",
       "      <td>3</td>\n",
       "      <td>3</td>\n",
       "      <td>3</td>\n",
       "      <td>3</td>\n",
       "      <td>5</td>\n",
       "    </tr>\n",
       "    <tr>\n",
       "      <th>3</th>\n",
       "      <td>0</td>\n",
       "      <td>5</td>\n",
       "      <td>4</td>\n",
       "      <td>3</td>\n",
       "      <td>3</td>\n",
       "      <td>3</td>\n",
       "      <td>5</td>\n",
       "    </tr>\n",
       "    <tr>\n",
       "      <th>4</th>\n",
       "      <td>0</td>\n",
       "      <td>5</td>\n",
       "      <td>4</td>\n",
       "      <td>3</td>\n",
       "      <td>3</td>\n",
       "      <td>3</td>\n",
       "      <td>5</td>\n",
       "    </tr>\n",
       "    <tr>\n",
       "      <th>5</th>\n",
       "      <td>1</td>\n",
       "      <td>5</td>\n",
       "      <td>5</td>\n",
       "      <td>3</td>\n",
       "      <td>5</td>\n",
       "      <td>5</td>\n",
       "      <td>5</td>\n",
       "    </tr>\n",
       "    <tr>\n",
       "      <th>6</th>\n",
       "      <td>0</td>\n",
       "      <td>3</td>\n",
       "      <td>1</td>\n",
       "      <td>2</td>\n",
       "      <td>2</td>\n",
       "      <td>1</td>\n",
       "      <td>3</td>\n",
       "    </tr>\n",
       "    <tr>\n",
       "      <th>7</th>\n",
       "      <td>1</td>\n",
       "      <td>5</td>\n",
       "      <td>4</td>\n",
       "      <td>4</td>\n",
       "      <td>4</td>\n",
       "      <td>4</td>\n",
       "      <td>5</td>\n",
       "    </tr>\n",
       "    <tr>\n",
       "      <th>8</th>\n",
       "      <td>0</td>\n",
       "      <td>4</td>\n",
       "      <td>1</td>\n",
       "      <td>4</td>\n",
       "      <td>4</td>\n",
       "      <td>4</td>\n",
       "      <td>4</td>\n",
       "    </tr>\n",
       "    <tr>\n",
       "      <th>9</th>\n",
       "      <td>0</td>\n",
       "      <td>4</td>\n",
       "      <td>4</td>\n",
       "      <td>4</td>\n",
       "      <td>2</td>\n",
       "      <td>5</td>\n",
       "      <td>5</td>\n",
       "    </tr>\n",
       "    <tr>\n",
       "      <th>10</th>\n",
       "      <td>0</td>\n",
       "      <td>3</td>\n",
       "      <td>2</td>\n",
       "      <td>3</td>\n",
       "      <td>3</td>\n",
       "      <td>2</td>\n",
       "      <td>3</td>\n",
       "    </tr>\n",
       "    <tr>\n",
       "      <th>11</th>\n",
       "      <td>0</td>\n",
       "      <td>4</td>\n",
       "      <td>4</td>\n",
       "      <td>3</td>\n",
       "      <td>4</td>\n",
       "      <td>4</td>\n",
       "      <td>4</td>\n",
       "    </tr>\n",
       "    <tr>\n",
       "      <th>12</th>\n",
       "      <td>1</td>\n",
       "      <td>5</td>\n",
       "      <td>2</td>\n",
       "      <td>4</td>\n",
       "      <td>5</td>\n",
       "      <td>5</td>\n",
       "      <td>5</td>\n",
       "    </tr>\n",
       "    <tr>\n",
       "      <th>13</th>\n",
       "      <td>0</td>\n",
       "      <td>4</td>\n",
       "      <td>2</td>\n",
       "      <td>4</td>\n",
       "      <td>5</td>\n",
       "      <td>4</td>\n",
       "      <td>3</td>\n",
       "    </tr>\n",
       "    <tr>\n",
       "      <th>14</th>\n",
       "      <td>0</td>\n",
       "      <td>4</td>\n",
       "      <td>1</td>\n",
       "      <td>3</td>\n",
       "      <td>3</td>\n",
       "      <td>4</td>\n",
       "      <td>3</td>\n",
       "    </tr>\n",
       "  </tbody>\n",
       "</table>\n",
       "</div>"
      ],
      "text/plain": [
       "    Y  X1  X2  X3  X4  X5  X6\n",
       "0   0   3   3   3   4   2   4\n",
       "1   0   3   2   3   5   4   3\n",
       "2   1   5   3   3   3   3   5\n",
       "3   0   5   4   3   3   3   5\n",
       "4   0   5   4   3   3   3   5\n",
       "5   1   5   5   3   5   5   5\n",
       "6   0   3   1   2   2   1   3\n",
       "7   1   5   4   4   4   4   5\n",
       "8   0   4   1   4   4   4   4\n",
       "9   0   4   4   4   2   5   5\n",
       "10  0   3   2   3   3   2   3\n",
       "11  0   4   4   3   4   4   4\n",
       "12  1   5   2   4   5   5   5\n",
       "13  0   4   2   4   5   4   3\n",
       "14  0   4   1   3   3   4   3"
      ]
     },
     "execution_count": 9,
     "metadata": {},
     "output_type": "execute_result"
    }
   ],
   "source": [
    "data.head(15)"
   ]
  },
  {
   "cell_type": "code",
   "execution_count": 11,
   "id": "691275f0",
   "metadata": {},
   "outputs": [
    {
     "data": {
      "text/html": [
       "<div>\n",
       "<style scoped>\n",
       "    .dataframe tbody tr th:only-of-type {\n",
       "        vertical-align: middle;\n",
       "    }\n",
       "\n",
       "    .dataframe tbody tr th {\n",
       "        vertical-align: top;\n",
       "    }\n",
       "\n",
       "    .dataframe thead th {\n",
       "        text-align: right;\n",
       "    }\n",
       "</style>\n",
       "<table border=\"1\" class=\"dataframe\">\n",
       "  <thead>\n",
       "    <tr style=\"text-align: right;\">\n",
       "      <th></th>\n",
       "      <th>Total</th>\n",
       "      <th>%</th>\n",
       "    </tr>\n",
       "  </thead>\n",
       "  <tbody>\n",
       "    <tr>\n",
       "      <th>Y</th>\n",
       "      <td>0</td>\n",
       "      <td>0.0</td>\n",
       "    </tr>\n",
       "    <tr>\n",
       "      <th>X1</th>\n",
       "      <td>0</td>\n",
       "      <td>0.0</td>\n",
       "    </tr>\n",
       "    <tr>\n",
       "      <th>X2</th>\n",
       "      <td>0</td>\n",
       "      <td>0.0</td>\n",
       "    </tr>\n",
       "    <tr>\n",
       "      <th>X3</th>\n",
       "      <td>0</td>\n",
       "      <td>0.0</td>\n",
       "    </tr>\n",
       "    <tr>\n",
       "      <th>X4</th>\n",
       "      <td>0</td>\n",
       "      <td>0.0</td>\n",
       "    </tr>\n",
       "  </tbody>\n",
       "</table>\n",
       "</div>"
      ],
      "text/plain": [
       "    Total    %\n",
       "Y       0  0.0\n",
       "X1      0  0.0\n",
       "X2      0  0.0\n",
       "X3      0  0.0\n",
       "X4      0  0.0"
      ]
     },
     "execution_count": 11,
     "metadata": {},
     "output_type": "execute_result"
    }
   ],
   "source": [
    "total = data.isnull().sum().sort_values(ascending=False)\n",
    "percent_1 = data.isnull().sum()/data.isnull().count()*100\n",
    "percent_2 = (round(percent_1, 1)).sort_values(ascending=False)\n",
    "missing_data = pd.concat([total, percent_2], axis=1, keys=['Total', '%'])\n",
    "missing_data.head(5)"
   ]
  },
  {
   "cell_type": "markdown",
   "id": "3f5bd0af",
   "metadata": {},
   "source": [
    "No missing data"
   ]
  },
  {
   "cell_type": "code",
   "execution_count": 15,
   "id": "71350aab",
   "metadata": {},
   "outputs": [],
   "source": [
    "feature_cols = ['X1', 'X2', 'X3','X4','X5','X6']"
   ]
  },
  {
   "cell_type": "code",
   "execution_count": 40,
   "id": "3d9eed65",
   "metadata": {},
   "outputs": [
    {
     "data": {
      "text/plain": [
       "Text(0.5, 1.0, 'X1')"
      ]
     },
     "execution_count": 40,
     "metadata": {},
     "output_type": "execute_result"
    },
    {
     "data": {
      "image/png": "[encoded data removed]",
      "text/plain": [
       "<Figure size 432x288 with 1 Axes>"
      ]
     },
     "metadata": {
      "needs_background": "light"
     },
     "output_type": "display_data"
    }
   ],
   "source": [
    "feature = 'X1'\n",
    "ax = sns.histplot(data=happy, x=feature, kde=True)\n",
    "ax = sns.histplot(data=unhappy, x=feature, kde=True, color = 'r')\n",
    "ax.set_title(feature)  "
   ]
  },
  {
   "cell_type": "code",
   "execution_count": 41,
   "id": "a1e83923",
   "metadata": {},
   "outputs": [
    {
     "data": {
      "text/plain": [
       "Text(0.5, 1.0, 'X2')"
      ]
     },
     "execution_count": 41,
     "metadata": {},
     "output_type": "execute_result"
    },
    {
     "data": {
      "image/png": "[encoded data removed]",
      "text/plain": [
       "<Figure size 432x288 with 1 Axes>"
      ]
     },
     "metadata": {
      "needs_background": "light"
     },
     "output_type": "display_data"
    }
   ],
   "source": [
    "feature = 'X2'\n",
    "ax = sns.histplot(data=happy, x=feature, kde=True)\n",
    "ax = sns.histplot(data=unhappy, x=feature, kde=True, color = 'r')\n",
    "ax.set_title(feature)"
   ]
  },
  {
   "cell_type": "code",
   "execution_count": 42,
   "id": "9cf88781",
   "metadata": {},
   "outputs": [
    {
     "data": {
      "text/plain": [
       "Text(0.5, 1.0, 'X3')"
      ]
     },
     "execution_count": 42,
     "metadata": {},
     "output_type": "execute_result"
    },
    {
     "data": {
      "image/png": "[encoded data removed]",
      "text/plain": [
       "<Figure size 432x288 with 1 Axes>"
      ]
     },
     "metadata": {
      "needs_background": "light"
     },
     "output_type": "display_data"
    }
   ],
   "source": [
    "feature = 'X3'\n",
    "ax = sns.histplot(data=happy, x=feature, kde=True)\n",
    "ax = sns.histplot(data=unhappy, x=feature, kde=True, color = 'r')\n",
    "ax.set_title(feature)"
   ]
  },
  {
   "cell_type": "code",
   "execution_count": 43,
   "id": "0de79533",
   "metadata": {},
   "outputs": [
    {
     "data": {
      "text/plain": [
       "Text(0.5, 1.0, 'X4')"
      ]
     },
     "execution_count": 43,
     "metadata": {},
     "output_type": "execute_result"
    },
    {
     "data": {
      "image/png": "[encoded data removed]",
      "text/plain": [
       "<Figure size 432x288 with 1 Axes>"
      ]
     },
     "metadata": {
      "needs_background": "light"
     },
     "output_type": "display_data"
    }
   ],
   "source": [
    "feature = 'X4'\n",
    "ax = sns.histplot(data=happy, x=feature, kde=True)\n",
    "ax = sns.histplot(data=unhappy, x=feature, kde=True, color = 'r')\n",
    "ax.set_title(feature)"
   ]
  },
  {
   "cell_type": "code",
   "execution_count": 44,
   "id": "e8291593",
   "metadata": {},
   "outputs": [
    {
     "data": {
      "text/plain": [
       "Text(0.5, 1.0, 'X5')"
      ]
     },
     "execution_count": 44,
     "metadata": {},
     "output_type": "execute_result"
    },
    {
     "data": {
      "image/png": "[encoded data removed]",
      "text/plain": [
       "<Figure size 432x288 with 1 Axes>"
      ]
     },
     "metadata": {
      "needs_background": "light"
     },
     "output_type": "display_data"
    }
   ],
   "source": [
    "feature = 'X5'\n",
    "ax = sns.histplot(data=happy, x=feature, kde=True)\n",
    "ax = sns.histplot(data=unhappy, x=feature, kde=True, color = 'r')\n",
    "ax.set_title(feature)"
   ]
  },
  {
   "cell_type": "code",
   "execution_count": 45,
   "id": "777afbc6",
   "metadata": {},
   "outputs": [
    {
     "data": {
      "text/plain": [
       "Text(0.5, 1.0, 'X6')"
      ]
     },
     "execution_count": 45,
     "metadata": {},
     "output_type": "execute_result"
    },
    {
     "data": {
      "image/png": "[encoded data removed]",
      "text/plain": [
       "<Figure size 432x288 with 1 Axes>"
      ]
     },
     "metadata": {
      "needs_background": "light"
     },
     "output_type": "display_data"
    }
   ],
   "source": [
    "feature = 'X6'\n",
    "ax = sns.histplot(data=happy, x=feature, kde=True)\n",
    "ax = sns.histplot(data=unhappy, x=feature, kde=True, color = 'r')\n",
    "ax.set_title(feature)"
   ]
  },
  {
   "cell_type": "code",
   "execution_count": 133,
   "id": "afb1218f",
   "metadata": {},
   "outputs": [
    {
     "name": "stderr",
     "output_type": "stream",
     "text": [
      "/opt/anaconda3/lib/python3.8/site-packages/seaborn/axisgrid.py:316: UserWarning: The `size` parameter has been renamed to `height`; please update your code.\n",
      "  warnings.warn(msg, UserWarning)\n"
     ]
    },
    {
     "data": {
      "image/png": "[encoded data removed]",
      "text/plain": [
       "<Figure size 514.88x792 with 10 Axes>"
      ]
     },
     "metadata": {
      "needs_background": "light"
     },
     "output_type": "display_data"
    }
   ],
   "source": [
    "grid = sns.FacetGrid(data, col='Y', row='X5', size=2.2, aspect=1.6)\n",
    "grid.map(plt.hist, 'X6', alpha=.5, bins=20)\n",
    "grid.add_legend();"
   ]
  },
  {
   "cell_type": "code",
   "execution_count": 52,
   "id": "3c6d65b3",
   "metadata": {},
   "outputs": [],
   "source": [
    "X = data[feature_cols]\n",
    "y = data.Y "
   ]
  },
  {
   "cell_type": "code",
   "execution_count": 53,
   "id": "1bbad9d4",
   "metadata": {},
   "outputs": [
    {
     "name": "stdout",
     "output_type": "stream",
     "text": [
      "  Feature  Importance\n",
      "4      X5    2.273286\n",
      "0      X1    1.449041\n",
      "2      X3    0.900104\n",
      "5      X6    0.541070\n",
      "3      X4    0.106194\n",
      "1      X2    0.036161\n"
     ]
    }
   ],
   "source": [
    "#filter features by importance\n",
    "\n",
    "# Perform feature selection using the chi2 method\n",
    "selector = SelectKBest(score_func=chi2, k='all')\n",
    "selector.fit(X, y)\n",
    "\n",
    "# Get the feature importances based on the chi2 scores\n",
    "scores = selector.scores_\n",
    "\n",
    "# Create a dataframe with the feature names and their importances\n",
    "features = X.columns\n",
    "importances = pd.DataFrame({'Feature': features, 'Importance': scores})\n",
    "\n",
    "# Sort the dataframe by importance\n",
    "importances = importances.sort_values(by='Importance', ascending=False)\n",
    "\n",
    "# Print the feature importances\n",
    "print(importances)"
   ]
  },
  {
   "cell_type": "markdown",
   "id": "d8657c42",
   "metadata": {},
   "source": [
    "# Building ML models"
   ]
  },
  {
   "cell_type": "code",
   "execution_count": 122,
   "id": "b9a7f950",
   "metadata": {},
   "outputs": [],
   "source": [
    "#test different models on data\n",
    "def compare_models(X_train, X_test, y_train, y_test):\n",
    "    d = {}\n",
    "    print('Difference in model accuracy')\n",
    "    # Create a Logistic Regression classifier\n",
    "    clf = LogisticRegression(random_state=16)\n",
    "    clf.fit(X_train, y_train)\n",
    "    y_pred = clf.predict(X_test)\n",
    "    accuracy = accuracy_score(y_test, y_pred)\n",
    "    k = \"Logistic regression\"\n",
    "    d[k] =  accuracy\n",
    "    print(k, accuracy)\n",
    "\n",
    "    # Create a KNN classifier\n",
    "    clf = KNeighborsClassifier()\n",
    "    clf.fit(X_train, y_train)\n",
    "    y_pred = clf.predict(X_test)\n",
    "    accuracy = accuracy_score(y_test, y_pred)\n",
    "    k = \"KNN\"\n",
    "    d[k] =  accuracy\n",
    "    print(k, accuracy)\n",
    "\n",
    "    # Create a Decision Tree classifier\n",
    "    clf = DecisionTreeClassifier()\n",
    "    clf.fit(X_train, y_train)\n",
    "    y_pred = clf.predict(X_test)\n",
    "    accuracy = accuracy_score(y_test, y_pred)\n",
    "    k = \"Decision tree\"\n",
    "    d[k] =  accuracy\n",
    "    print(k, accuracy)\n",
    "\n",
    "    # Create a Random Forest classifier\n",
    "    clf = RandomForestClassifier()\n",
    "    clf.fit(X_train, y_train)\n",
    "    y_pred = clf.predict(X_test)\n",
    "    accuracy = accuracy_score(y_test, y_pred)\n",
    "    k = \"Random forest\"\n",
    "    d[k] =  accuracy\n",
    "    print(k, accuracy)\n",
    "\n",
    "    #Create a Gradient Boosting classifier\n",
    "    clf = GradientBoostingClassifier()\n",
    "    clf.fit(X_train, y_train)\n",
    "    y_pred = clf.predict(X_test)\n",
    "    accuracy = accuracy_score(y_test, y_pred)\n",
    "    k = \"Gradient Boosting\"\n",
    "    d[k] =  accuracy\n",
    "    print(k, accuracy)\n",
    "\n",
    "    #Create an XGBoost classifier\n",
    "\n",
    "    params = {'objective': 'binary:logistic', 'max_depth': 3, 'learning_rate': 0.1}\n",
    "    clf = xgb.XGBClassifier(**params)\n",
    "    clf.fit(X_train, y_train)\n",
    "    y_pred = clf.predict(X_test)\n",
    "    accuracy = accuracy_score(y_test, y_pred)\n",
    "    k = \"XGBoost\"\n",
    "    d[k] =  accuracy\n",
    "    print(k, accuracy)\n",
    "    \n",
    "    max_k = max(d, key=lambda key: d[key])\n",
    "    print(\"Max is\", max_k, \"with\", d[max_k])\n"
   ]
  },
  {
   "cell_type": "code",
   "execution_count": 125,
   "id": "0e014c04",
   "metadata": {},
   "outputs": [],
   "source": [
    "#different test sets splits\n",
    "X1_train, X1_test, y1_train, y1_test = train_test_split(X, y, test_size=0.2, random_state=16)\n",
    "X2_train, X2_test, y2_train, y2_test = train_test_split(X, y, test_size=0.25, random_state=16)"
   ]
  },
  {
   "cell_type": "code",
   "execution_count": 126,
   "id": "8b0f3c67",
   "metadata": {},
   "outputs": [
    {
     "name": "stdout",
     "output_type": "stream",
     "text": [
      "Original data with 0.2 test size\n",
      "Difference in model accuracy\n",
      "Logistic regression 0.6538461538461539\n",
      "KNN 0.5\n",
      "Decision tree 0.5769230769230769\n",
      "Random forest 0.5769230769230769\n",
      "Gradient Boosting 0.5769230769230769\n",
      "XGBoost 0.5\n",
      "Max is Logistic regression with 0.6538461538461539\n",
      "\n",
      "Original data with 0.25 test size\n",
      "Difference in model accuracy\n",
      "Logistic regression 0.71875\n",
      "KNN 0.46875\n",
      "Decision tree 0.53125\n",
      "Random forest 0.625\n",
      "Gradient Boosting 0.59375\n",
      "XGBoost 0.53125\n",
      "Max is Logistic regression with 0.71875\n"
     ]
    }
   ],
   "source": [
    "print(\"Original data with 0.2 test size\")\n",
    "compare_models(X1_train, X1_test, y1_train, y1_test)\n",
    "print(\"\\nOriginal data with 0.25 test size\")\n",
    "compare_models(X2_train, X2_test, y2_train, y2_test)"
   ]
  },
  {
   "cell_type": "code",
   "execution_count": 96,
   "id": "6eed108a",
   "metadata": {},
   "outputs": [],
   "source": [
    "#try scaling data\n",
    "scaler = StandardScaler()\n",
    "X_scaled = scaler.fit_transform(data[feature_cols])\n",
    "\n",
    "X3_train, X3_test, y3_train, y3_test = train_test_split(X_scaled, y, test_size=0.2, random_state=16)\n",
    "X4_train, X4_test, y4_train, y4_test = train_test_split(X_scaled, y, test_size=0.25, random_state=16)"
   ]
  },
  {
   "cell_type": "code",
   "execution_count": 97,
   "id": "ebf0acd5",
   "metadata": {},
   "outputs": [
    {
     "name": "stdout",
     "output_type": "stream",
     "text": [
      "Scaled data with 0.2 test size\n",
      "Difference in model accuracy\n",
      "Logistic regression 0.6538461538461539\n",
      "KNN 0.5\n",
      "Decision tree 0.46153846153846156\n",
      "Random forest 0.5769230769230769\n",
      "Gradient Boosting 0.5769230769230769\n",
      "XGBoost 0.5\n",
      "Max is Logistic regression with 0.6538461538461539\n",
      "\n",
      "Scaled data with 0.25 test size\n",
      "Difference in model accuracy\n",
      "Logistic regression 0.71875\n",
      "KNN 0.5\n",
      "Decision tree 0.59375\n",
      "Random forest 0.625\n",
      "Gradient Boosting 0.59375\n",
      "XGBoost 0.53125\n",
      "Max is Logistic regression with 0.71875\n"
     ]
    }
   ],
   "source": [
    "print(\"Scaled data with 0.2 test size\")\n",
    "compare_models(X3_train, X3_test, y3_train, y3_test)\n",
    "print(\"\\nScaled data with 0.25 test size\")\n",
    "compare_models(X4_train, X4_test, y4_train, y4_test)"
   ]
  },
  {
   "cell_type": "code",
   "execution_count": 130,
   "id": "690cb811",
   "metadata": {},
   "outputs": [],
   "source": [
    "#try by removing features\n",
    "# since scaling doesnt seem to improve, and test plit of 0.25 gives better accuracy, we will use the original data with 0.25\n",
    "\n",
    "def drop_feature(data, feature_cols):\n",
    "    for i in range(len(feature_cols)):\n",
    "        cols = feature_cols[:]\n",
    "        cols.pop(i)\n",
    "        print('\\nFeatures:', cols)\n",
    "        X = data[cols]\n",
    "        y = data.Y \n",
    "        X_train, X_test, y_train, y_test = train_test_split(X, y, test_size=0.2, random_state=16)\n",
    "        compare_models(X_train, X_test, y_train, y_test)\n"
   ]
  },
  {
   "cell_type": "code",
   "execution_count": 131,
   "id": "39c0cfd6",
   "metadata": {},
   "outputs": [
    {
     "name": "stdout",
     "output_type": "stream",
     "text": [
      "\n",
      "Features: ['X2', 'X3', 'X4', 'X5', 'X6']\n",
      "Difference in model accuracy\n",
      "Logistic regression 0.6538461538461539\n",
      "KNN 0.46153846153846156\n",
      "Decision tree 0.5\n",
      "Random forest 0.38461538461538464\n",
      "Gradient Boosting 0.46153846153846156\n",
      "XGBoost 0.46153846153846156\n",
      "Max is Logistic regression with 0.6538461538461539\n",
      "\n",
      "Features: ['X1', 'X3', 'X4', 'X5', 'X6']\n",
      "Difference in model accuracy\n",
      "Logistic regression 0.6538461538461539\n",
      "KNN 0.5769230769230769\n",
      "Decision tree 0.6153846153846154\n",
      "Random forest 0.6153846153846154\n",
      "Gradient Boosting 0.5769230769230769\n",
      "XGBoost 0.6923076923076923\n",
      "Max is XGBoost with 0.6923076923076923\n",
      "\n",
      "Features: ['X1', 'X2', 'X4', 'X5', 'X6']\n",
      "Difference in model accuracy\n",
      "Logistic regression 0.6538461538461539\n",
      "KNN 0.5\n",
      "Decision tree 0.6153846153846154\n",
      "Random forest 0.5769230769230769\n",
      "Gradient Boosting 0.5384615384615384\n",
      "XGBoost 0.5769230769230769\n",
      "Max is Logistic regression with 0.6538461538461539\n",
      "\n",
      "Features: ['X1', 'X2', 'X3', 'X5', 'X6']\n",
      "Difference in model accuracy\n",
      "Logistic regression 0.6153846153846154\n",
      "KNN 0.5769230769230769\n",
      "Decision tree 0.5384615384615384\n",
      "Random forest 0.6538461538461539\n",
      "Gradient Boosting 0.6538461538461539\n",
      "XGBoost 0.5\n",
      "Max is Random forest with 0.6538461538461539\n",
      "\n",
      "Features: ['X1', 'X2', 'X3', 'X4', 'X6']\n",
      "Difference in model accuracy\n",
      "Logistic regression 0.6538461538461539\n",
      "KNN 0.46153846153846156\n",
      "Decision tree 0.5\n",
      "Random forest 0.6538461538461539\n",
      "Gradient Boosting 0.6153846153846154\n",
      "XGBoost 0.5\n",
      "Max is Logistic regression with 0.6538461538461539\n",
      "\n",
      "Features: ['X1', 'X2', 'X3', 'X4', 'X5']\n",
      "Difference in model accuracy\n",
      "Logistic regression 0.6153846153846154\n",
      "KNN 0.5769230769230769\n",
      "Decision tree 0.5\n",
      "Random forest 0.5769230769230769\n",
      "Gradient Boosting 0.6153846153846154\n",
      "XGBoost 0.5384615384615384\n",
      "Max is Logistic regression with 0.6153846153846154\n"
     ]
    }
   ],
   "source": [
    "drop_feature(data, feature_cols)"
   ]
  },
  {
   "cell_type": "code",
   "execution_count": 112,
   "id": "6ad1b079",
   "metadata": {},
   "outputs": [],
   "source": [
    "#try again but alsways remove X2 since it was logest in importance list"
   ]
  },
  {
   "cell_type": "code",
   "execution_count": 132,
   "id": "b6abf95d",
   "metadata": {},
   "outputs": [
    {
     "name": "stdout",
     "output_type": "stream",
     "text": [
      "\n",
      "Features: ['X3', 'X4', 'X5', 'X6']\n",
      "Difference in model accuracy\n",
      "Logistic regression 0.6538461538461539\n",
      "KNN 0.5\n",
      "Decision tree 0.5384615384615384\n",
      "Random forest 0.5384615384615384\n",
      "Gradient Boosting 0.6153846153846154\n",
      "XGBoost 0.6153846153846154\n",
      "Max is Logistic regression with 0.6538461538461539\n",
      "\n",
      "Features: ['X1', 'X4', 'X5', 'X6']\n",
      "Difference in model accuracy\n",
      "Logistic regression 0.6538461538461539\n",
      "KNN 0.5769230769230769\n",
      "Decision tree 0.6153846153846154\n",
      "Random forest 0.5769230769230769\n",
      "Gradient Boosting 0.6153846153846154\n",
      "XGBoost 0.5769230769230769\n",
      "Max is Logistic regression with 0.6538461538461539\n",
      "\n",
      "Features: ['X1', 'X3', 'X5', 'X6']\n",
      "Difference in model accuracy\n",
      "Logistic regression 0.7307692307692307\n",
      "KNN 0.5384615384615384\n",
      "Decision tree 0.6153846153846154\n",
      "Random forest 0.6923076923076923\n",
      "Gradient Boosting 0.7307692307692307\n",
      "XGBoost 0.6538461538461539\n",
      "Max is Logistic regression with 0.7307692307692307\n",
      "\n",
      "Features: ['X1', 'X3', 'X4', 'X6']\n",
      "Difference in model accuracy\n",
      "Logistic regression 0.5769230769230769\n",
      "KNN 0.6538461538461539\n",
      "Decision tree 0.6923076923076923\n",
      "Random forest 0.6923076923076923\n",
      "Gradient Boosting 0.6923076923076923\n",
      "XGBoost 0.7307692307692307\n",
      "Max is XGBoost with 0.7307692307692307\n",
      "\n",
      "Features: ['X1', 'X3', 'X4', 'X5']\n",
      "Difference in model accuracy\n",
      "Logistic regression 0.6153846153846154\n",
      "KNN 0.5384615384615384\n",
      "Decision tree 0.6538461538461539\n",
      "Random forest 0.6538461538461539\n",
      "Gradient Boosting 0.6153846153846154\n",
      "XGBoost 0.5769230769230769\n",
      "Max is Decision tree with 0.6538461538461539\n"
     ]
    }
   ],
   "source": [
    "drop_feature(data, ['X1', 'X3', 'X4', 'X5', 'X6'])"
   ]
  },
  {
   "cell_type": "markdown",
   "id": "b26b01ed",
   "metadata": {},
   "source": [
    "# Results\n",
    "Removing features X2 and X4 (loweest on the chi square importance) helped bring the accuracy above 73% using logistic regression. These questions can be removed from the questionaire"
   ]
  },
  {
   "cell_type": "code",
   "execution_count": null,
   "id": "4c1e648f",
   "metadata": {},
   "outputs": [],
   "source": []
  }
 ],
 "metadata": {
  "kernelspec": {
   "display_name": "Python 3",
   "language": "python",
   "name": "python3"
  },
  "language_info": {
   "codemirror_mode": {
    "name": "ipython",
    "version": 3
   },
   "file_extension": ".py",
   "mimetype": "text/x-python",
   "name": "python",
   "nbconvert_exporter": "python",
   "pygments_lexer": "ipython3",
   "version": "3.8.8"
  }
 },
 "nbformat": 4,
 "nbformat_minor": 5
}
